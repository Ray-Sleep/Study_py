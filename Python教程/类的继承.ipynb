{
 "cells": [
  {
   "cell_type": "markdown",
   "source": [
    "# Python 继承\n",
    "继承允许我们定义继承另一个类的所有方法和属性的类\n",
    "父类 就是继承的类，也成为基类\n",
    "子类 是从另一个类继承的类，也成为派生类"
   ],
   "metadata": {
    "collapsed": false,
    "pycharm": {
     "name": "#%% md\n"
    }
   }
  },
  {
   "cell_type": "markdown",
   "source": [
    "## 创建父类\n",
    "任何父类都可以是父类，因此语法和创建任何其他类相同"
   ],
   "metadata": {
    "collapsed": false,
    "pycharm": {
     "name": "#%% md\n"
    }
   }
  },
  {
   "cell_type": "code",
   "execution_count": 9,
   "metadata": {
    "collapsed": true,
    "pycharm": {
     "name": "#%%\n"
    }
   },
   "outputs": [
    {
     "name": "stdout",
     "output_type": "stream",
     "text": [
      "Ray shui\n"
     ]
    }
   ],
   "source": [
    "# 创建一个名为 Person 的类，其中包含 firstname 和 lastname 属性以及 printname 方法：\n",
    "\n",
    "class  Person:\n",
    "    def __init__(self,fname,lname):\n",
    "        self.firstname = fname\n",
    "        self.lastname = lname\n",
    "\n",
    "    def printname(self):\n",
    "        print(self.firstname,self.lastname)\n",
    "\n",
    "# 使用 Person 来创建对象，然后执行 printname 方法\n",
    "\n",
    "x = Person('Ray',\"shui\")\n",
    "x.printname()"
   ]
  },
  {
   "cell_type": "markdown",
   "source": [
    "使用 Person 来创建对象，然后执行 printname 方法"
   ],
   "metadata": {
    "collapsed": false,
    "pycharm": {
     "name": "#%% md\n"
    }
   }
  },
  {
   "cell_type": "markdown",
   "source": [
    "## 创建子类\n",
    "要创建从其他类继承功能的类，请在创建子类时将父类作为参数发送"
   ],
   "metadata": {
    "collapsed": false,
    "pycharm": {
     "name": "#%% md\n"
    }
   }
  },
  {
   "cell_type": "code",
   "execution_count": 5,
   "outputs": [
    {
     "name": "stdout",
     "output_type": "stream",
     "text": [
      "Elon Musk\n"
     ]
    }
   ],
   "source": [
    "# 创建一个名为 Student 的类，它将从 Person 类继承属性和方法\n",
    "\n",
    "class Student(Person):\n",
    "    pass\n",
    "\n",
    "#如果您不想向该类添加任何其他属性或方法，请使用 pass 关键字。\n",
    "#现在，Student 类拥有与 Person 类相同的属性和方法。\n",
    "\n",
    "x = Student('Elon',\"Musk\")\n",
    "x.printname()"
   ],
   "metadata": {
    "collapsed": false,
    "pycharm": {
     "name": "#%%\n"
    }
   }
  },
  {
   "cell_type": "code",
   "execution_count": 7,
   "outputs": [],
   "source": [
    "# 添加 __init__() 函数\n",
    "\n",
    "class Student(Person):\n",
    "    def __init__(self,fname,lname):\n",
    "        # 当您添加 __init__() 函数时，子类将不再继承父的 __init__() 函数\n",
    "\n",
    "        # 如需保持父的 __init__() 函数的继承，请添加对父的 __init__() 函数的调用\n",
    "        Person.__init__(self,fname,lname)"
   ],
   "metadata": {
    "collapsed": false,
    "pycharm": {
     "name": "#%%\n"
    }
   }
  },
  {
   "cell_type": "markdown",
   "source": [
    "现在，我们已经成功添加了 __init__() 函数，并保留了父类的继承，我们准备好在 __init__() 函数中添加功能了"
   ],
   "metadata": {
    "collapsed": false,
    "pycharm": {
     "name": "#%% md\n"
    }
   }
  },
  {
   "cell_type": "markdown",
   "source": [
    "# 使用 super() 函数\n",
    "Python 还有一个 super() 函数，它会使用子类从其父类继承所有方法和属性"
   ],
   "metadata": {
    "collapsed": false,
    "pycharm": {
     "name": "#%% md\n"
    }
   }
  },
  {
   "cell_type": "code",
   "execution_count": 8,
   "outputs": [],
   "source": [
    "class Student(Person):\n",
    "    def __init__(self,fname,lname):\n",
    "        super().__init__(fname,lname)"
   ],
   "metadata": {
    "collapsed": false,
    "pycharm": {
     "name": "#%%\n"
    }
   }
  },
  {
   "cell_type": "markdown",
   "source": [
    "通过使用 super() 函数，您不必使用父元素的名称，它将自动从其父元素继承方法和属性"
   ],
   "metadata": {
    "collapsed": false,
    "pycharm": {
     "name": "#%% md\n"
    }
   }
  },
  {
   "cell_type": "markdown",
   "source": [
    "## 添加属性"
   ],
   "metadata": {
    "collapsed": false,
    "pycharm": {
     "name": "#%% md\n"
    }
   }
  },
  {
   "cell_type": "code",
   "execution_count": null,
   "outputs": [],
   "source": [
    "# 把名为 graduationyear 的属性添加到 Student 类:\n",
    "\n",
    "# 添加 year 参数，并在创建对象时传递正确的年份：\n",
    "\n",
    "class Student(Person):\n",
    "    def __init__(self,fname,lname,year):\n",
    "        super().__init__(fname,lname)\n",
    "        self.graduationyear = year\n",
    "\n",
    "x = Student(\"Elon\",\"Musk\",2019)"
   ],
   "metadata": {
    "collapsed": false,
    "pycharm": {
     "name": "#%%\n"
    }
   }
  },
  {
   "cell_type": "markdown",
   "source": [
    "## 添加方法"
   ],
   "metadata": {
    "collapsed": false,
    "pycharm": {
     "name": "#%% md\n"
    }
   }
  },
  {
   "cell_type": "code",
   "execution_count": 10,
   "outputs": [],
   "source": [
    "# 把名为 welcome 的方法添加到 Student 类：\n",
    "\n",
    "class Student(Person):\n",
    "    def __init__(self,fname,lname,year):\n",
    "        super().__init__(fname,lname)\n",
    "        self.graduationyear = year\n",
    "\n",
    "    def welcome(self):\n",
    "        print(\"Welcome\",self.firstname,self.lastname,\"to the class of\",self.graduationyear)"
   ],
   "metadata": {
    "collapsed": false,
    "pycharm": {
     "name": "#%%\n"
    }
   }
  },
  {
   "cell_type": "markdown",
   "source": [
    "如果您在子类中添加一个与父类中的函数同名的方法，则将覆盖父方法的继承。"
   ],
   "metadata": {
    "collapsed": false,
    "pycharm": {
     "name": "#%% md\n"
    }
   }
  }
 ],
 "metadata": {
  "kernelspec": {
   "display_name": "Python 3",
   "language": "python",
   "name": "python3"
  },
  "language_info": {
   "codemirror_mode": {
    "name": "ipython",
    "version": 2
   },
   "file_extension": ".py",
   "mimetype": "text/x-python",
   "name": "python",
   "nbconvert_exporter": "python",
   "pygments_lexer": "ipython2",
   "version": "2.7.6"
  }
 },
 "nbformat": 4,
 "nbformat_minor": 0
}