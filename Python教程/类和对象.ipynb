{
 "cells": [
  {
   "cell_type": "markdown",
   "source": [
    "# 创建类\n",
    "如需创建类，请使用 class 关键字"
   ],
   "metadata": {
    "collapsed": false,
    "pycharm": {
     "name": "#%% md\n"
    }
   }
  },
  {
   "cell_type": "code",
   "execution_count": 7,
   "metadata": {
    "collapsed": true,
    "pycharm": {
     "name": "#%%\n"
    }
   },
   "outputs": [
    {
     "name": "stdout",
     "output_type": "stream",
     "text": [
      "<class '__main__.MyClass'>\n"
     ]
    }
   ],
   "source": [
    "class MyClass:\n",
    "    x = 5\n",
    "\n",
    "print(MyClass)"
   ]
  },
  {
   "cell_type": "markdown",
   "source": [
    "# 创建对象\n",
    "现在我们可以使用名为 myClass 的类创建对象："
   ],
   "metadata": {
    "collapsed": false,
    "pycharm": {
     "name": "#%% md\n"
    }
   }
  },
  {
   "cell_type": "code",
   "execution_count": 9,
   "outputs": [
    {
     "name": "stdout",
     "output_type": "stream",
     "text": [
      "5\n"
     ]
    }
   ],
   "source": [
    "p1 = MyClass()\n",
    "\n",
    "print(p1.x)"
   ],
   "metadata": {
    "collapsed": false,
    "pycharm": {
     "name": "#%%\n"
    }
   }
  },
  {
   "cell_type": "markdown",
   "source": [
    "# \\_\\_init__() 函数\n",
    "要理解类的含义，我们必须了解内置的 \\_\\_init__() 函数\n",
    "所有类都有一个名为 \\_\\_init__() 函数\n",
    "所有的类都有一个名为 \\_\\_init__() 的函数，它始终在启动类时执行\n",
    "使用 \\_\\_init__() 函数将值赋给对象属性，或者在创建对象时需要执行的其他操作："
   ],
   "metadata": {
    "collapsed": false,
    "pycharm": {
     "name": "#%% md\n"
    }
   }
  },
  {
   "cell_type": "code",
   "execution_count": 13,
   "outputs": [
    {
     "name": "stdout",
     "output_type": "stream",
     "text": [
      "Ray\n",
      "18\n"
     ]
    }
   ],
   "source": [
    "# 创建名为 Person 的类，使用 __init__() 函数为 name 和 age 赋值：\n",
    "class Person:\n",
    "    def __init__(self,name,age):\n",
    "        self.name = name\n",
    "        self.age = age\n",
    "\n",
    "# 每次使用类创建新对象时，都会自动调用 __init__() 函数\n",
    "p1 = Person('Ray',18)\n",
    "\n",
    "print(p1.name)\n",
    "print(p1.age)"
   ],
   "metadata": {
    "collapsed": false,
    "pycharm": {
     "name": "#%%\n"
    }
   }
  },
  {
   "cell_type": "markdown",
   "source": [
    "## 对象方法\n",
    "对象也可以包含方法，对象中的方法时属于该对象的函数\n",
    "让我们在 Person 类中创建方法"
   ],
   "metadata": {
    "collapsed": false,
    "pycharm": {
     "name": "#%% md\n"
    }
   }
  },
  {
   "cell_type": "code",
   "execution_count": 17,
   "outputs": [
    {
     "name": "stdout",
     "output_type": "stream",
     "text": [
      "Hello my name isRay\n"
     ]
    }
   ],
   "source": [
    "# 插入一个打印问候语的函数，并在 p1 对象上执行它：\n",
    "\n",
    "class Person:\n",
    "    def __init__(self,name,age):\n",
    "        self.name = name\n",
    "        self.age = age\n",
    "\n",
    "    def myfunc(self):\n",
    "        print(\"Hello my name is\" + self.name)\n",
    "    # self 参数是对类的当前实例的引用，用于访问属于该类的变量\n",
    "\n",
    "# 实例化对象，执行打印函数\n",
    "p1 = Person('Ray',18)\n",
    "\n",
    "p1.myfunc()"
   ],
   "metadata": {
    "collapsed": false,
    "pycharm": {
     "name": "#%%\n"
    }
   }
  },
  {
   "cell_type": "markdown",
   "source": [
    "## self 参数\n",
    "self 参数是对类的当前实例的引用，用来访问属于该类的变量\n",
    "它不必被命名为 self ，您可以随意调用它，但是它必须是类中的任意函数的首个函数"
   ],
   "metadata": {
    "collapsed": false,
    "pycharm": {
     "name": "#%% md\n"
    }
   }
  },
  {
   "cell_type": "code",
   "execution_count": 23,
   "outputs": [
    {
     "name": "stdout",
     "output_type": "stream",
     "text": [
      "Hello my age is 18\n"
     ]
    }
   ],
   "source": [
    "# 使用单词 my_obj 和 abc 代替 self：\n",
    "\n",
    "class Person:\n",
    "    def __init__(my_obj,name,age):\n",
    "        my_obj.name = name\n",
    "        my_obj.age = age\n",
    "\n",
    "    def myfunc(abc):\n",
    "        print(\"Hello my age is \"+ str(abc.age))\n",
    "\n",
    "p1 = Person(\"Ray\",18)\n",
    "p1.myfunc()"
   ],
   "metadata": {
    "collapsed": false,
    "pycharm": {
     "name": "#%%\n"
    }
   }
  },
  {
   "cell_type": "markdown",
   "source": [
    "# 类与对象的操作"
   ],
   "metadata": {
    "collapsed": false,
    "pycharm": {
     "name": "#%% md\n"
    }
   }
  },
  {
   "cell_type": "code",
   "execution_count": 27,
   "outputs": [
    {
     "name": "stdout",
     "output_type": "stream",
     "text": [
      "64\n",
      "<__main__.Person object at 0x0000020B02D5E0A0>\n"
     ]
    },
    {
     "ename": "NameError",
     "evalue": "name 'p1' is not defined",
     "output_type": "error",
     "traceback": [
      "\u001B[1;31m---------------------------------------------------------------------------\u001B[0m",
      "\u001B[1;31mNameError\u001B[0m                                 Traceback (most recent call last)",
      "Input \u001B[1;32mIn [27]\u001B[0m, in \u001B[0;36m<cell line: 22>\u001B[1;34m()\u001B[0m\n\u001B[0;32m     20\u001B[0m \u001B[38;5;66;03m# 删除对象\u001B[39;00m\n\u001B[0;32m     21\u001B[0m \u001B[38;5;28;01mdel\u001B[39;00m p1\n\u001B[1;32m---> 22\u001B[0m \u001B[38;5;28mprint\u001B[39m(\u001B[43mp1\u001B[49m)\n",
      "\u001B[1;31mNameError\u001B[0m: name 'p1' is not defined"
     ]
    }
   ],
   "source": [
    "class Person:\n",
    "  def __init__(self, name, age):\n",
    "    self.name = name\n",
    "    self.age = age\n",
    "\n",
    "  def myfunc(self):\n",
    "    print(\"Hello my name is \" + self.name)\n",
    "\n",
    "p1 = Person(\"Bill\", 63)\n",
    "\n",
    "# 修改对象属性\n",
    "p1.age = 64\n",
    "print(p1.age)\n",
    "\n",
    "# 删除对象属性\n",
    "del p1.age\n",
    "print(p1.age)\n",
    "\n",
    "# 删除对象 同理\n",
    "del p1\n",
    "print(p1)"
   ],
   "metadata": {
    "collapsed": false,
    "pycharm": {
     "name": "#%%\n"
    }
   }
  }
 ],
 "metadata": {
  "kernelspec": {
   "display_name": "Python 3",
   "language": "python",
   "name": "python3"
  },
  "language_info": {
   "codemirror_mode": {
    "name": "ipython",
    "version": 2
   },
   "file_extension": ".py",
   "mimetype": "text/x-python",
   "name": "python",
   "nbconvert_exporter": "python",
   "pygments_lexer": "ipython2",
   "version": "2.7.6"
  }
 },
 "nbformat": 4,
 "nbformat_minor": 0
}